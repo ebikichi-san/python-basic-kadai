{
  "nbformat": 4,
  "nbformat_minor": 0,
  "metadata": {
    "colab": {
      "provenance": []
    },
    "kernelspec": {
      "name": "python3",
      "display_name": "Python 3"
    },
    "language_info": {
      "name": "python"
    }
  },
  "cells": [
    {
      "cell_type": "code",
      "source": [
        "def calculate_total_price(price_without_tax, tax_rate=0.1):\n",
        "\n",
        "  total_price = price_without_tax * (1 + tax_rate)\n",
        "  return (total_price)\n",
        "\n",
        "total_price = calculate_total_price(110)\n",
        "print(f\"税込価格：{total_price}円\")"
      ],
      "metadata": {
        "colab": {
          "base_uri": "https://localhost:8080/"
        },
        "id": "dPSpMpJUsWTZ",
        "outputId": "d99f8837-db7a-41b4-a7c3-9ad46fff70ed"
      },
      "execution_count": 52,
      "outputs": [
        {
          "output_type": "stream",
          "name": "stdout",
          "text": [
            "税込価格：121.00000000000001円\n"
          ]
        }
      ]
    }
  ]
}