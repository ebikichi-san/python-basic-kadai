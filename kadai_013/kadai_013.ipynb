{
  "nbformat": 4,
  "nbformat_minor": 0,
  "metadata": {
    "colab": {
      "provenance": []
    },
    "kernelspec": {
      "name": "python3",
      "display_name": "Python 3"
    },
    "language_info": {
      "name": "python"
    }
  },
  "cells": [
    {
      "cell_type": "code",
      "source": [
        "def calculate_total_price(price_without_tax, tax_rate=10):\n",
        "\n",
        "  total_price = price_without_tax + (price_without_tax /100 * tax_rate)\n",
        "  return (total_price)\n",
        "\n",
        "total_price = calculate_total_price(110)\n",
        "print(f\"税込価格：{total_price}円\")"
      ],
      "metadata": {
        "colab": {
          "base_uri": "https://localhost:8080/"
        },
        "id": "S1KHx3PUu0ME",
        "outputId": "b4ca84d9-fd26-4628-89f6-983d6f567251"
      },
      "execution_count": 63,
      "outputs": [
        {
          "output_type": "stream",
          "name": "stdout",
          "text": [
            "税込価格：121.0円\n"
          ]
        }
      ]
    },
    {
      "cell_type": "code",
      "source": [
        "def total_price(price, tax_rate):\n",
        "\n",
        "    tax = price * tax_rate / 100\n",
        "    total = price + tax\n",
        "    return total\n",
        "\n",
        "result = total_price(110, 10)\n",
        "\n",
        "print(result)"
      ],
      "metadata": {
        "colab": {
          "base_uri": "https://localhost:8080/"
        },
        "id": "8QijGuroz71M",
        "outputId": "a420b8a2-7ff1-477f-dbc4-80653d56e488"
      },
      "execution_count": 80,
      "outputs": [
        {
          "output_type": "stream",
          "name": "stdout",
          "text": [
            "121.0\n"
          ]
        }
      ]
    }
  ]
}