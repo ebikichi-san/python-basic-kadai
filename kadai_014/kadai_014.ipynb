{
  "nbformat": 4,
  "nbformat_minor": 0,
  "metadata": {
    "colab": {
      "provenance": []
    },
    "kernelspec": {
      "name": "python3",
      "display_name": "Python 3"
    },
    "language_info": {
      "name": "python"
    }
  },
  "cells": [
    {
      "cell_type": "code",
      "source": [
        "def total(price1, price2, tax):\n",
        "\n",
        "    sub_total = price1 + price2\n",
        "    total_price = sub_total * tax\n",
        "    return total_price\n",
        "\n",
        "result = total(100, 200, 1.1)\n",
        "\n",
        "print (result)"
      ],
      "metadata": {
        "colab": {
          "base_uri": "https://localhost:8080/"
        },
        "id": "M3N_9RPNGfo7",
        "outputId": "2c953215-33f5-40b2-c5d2-189f0d9fa0c7"
      },
      "execution_count": 12,
      "outputs": [
        {
          "output_type": "stream",
          "name": "stdout",
          "text": [
            "330.0\n"
          ]
        }
      ]
    }
  ]
}