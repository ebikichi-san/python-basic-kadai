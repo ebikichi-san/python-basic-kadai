{
  "nbformat": 4,
  "nbformat_minor": 0,
  "metadata": {
    "colab": {
      "provenance": []
    },
    "kernelspec": {
      "name": "python3",
      "display_name": "Python 3"
    },
    "language_info": {
      "name": "python"
    }
  },
  "cells": [
    {
      "cell_type": "code",
      "source": [
        "# Humanクラスの定義\n",
        "class Human:\n",
        "    def __init__(self, name, age):\n",
        "        self.name = name  # 属性：名前\n",
        "        self.age = age    # 属性：年齢\n",
        "\n",
        "    # 年齢によって大人かどうかを判定するメソッド\n",
        "    def check_adult(self):\n",
        "        if self.age >= 20:\n",
        "            print(f\"{self.name}（{self.age}歳）は大人です。\")\n",
        "        else:\n",
        "            print(f\"{self.name}（{self.age}歳）は大人ではありません。\")\n",
        "\n",
        "# インスタンスを複数作成\n",
        "person1 = Human(\"太郎\", 18)\n",
        "person2 = Human(\"花子\", 22)\n",
        "person3 = Human(\"次郎\", 15)\n",
        "\n",
        "# リストに追加\n",
        "people = [person1, person2, person3]\n",
        "\n",
        "# 繰り返し処理でメソッドを呼び出す\n",
        "for person in people:\n",
        "    person.check_adult()\n"
      ],
      "metadata": {
        "colab": {
          "base_uri": "https://localhost:8080/"
        },
        "id": "6jeD4zozw_kY",
        "outputId": "27efd745-efb2-4515-a3ec-8cca224cb286"
      },
      "execution_count": 1,
      "outputs": [
        {
          "output_type": "stream",
          "name": "stdout",
          "text": [
            "太郎（18歳）は大人ではありません。\n",
            "花子（22歳）は大人です。\n",
            "次郎（15歳）は大人ではありません。\n"
          ]
        }
      ]
    }
  ]
}