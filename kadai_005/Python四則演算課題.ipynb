{
  "nbformat": 4,
  "nbformat_minor": 0,
  "metadata": {
    "colab": {
      "provenance": []
    },
    "kernelspec": {
      "name": "python3",
      "display_name": "Python 3"
    },
    "language_info": {
      "name": "python"
    }
  },
  "cells": [
    {
      "cell_type": "code",
      "source": [
        "upper_side = 10\n",
        "bottom_side = 20\n",
        "high = 5\n",
        "\n",
        "area = (upper_side + bottom_side) * high / 2\n",
        "\n",
        "print(f\"台形の面積は{area}cm²です。\")"
      ],
      "metadata": {
        "colab": {
          "base_uri": "https://localhost:8080/"
        },
        "id": "isiubQXNPPO1",
        "outputId": "1837f7c5-d918-4cea-e727-8ca02d2d5bb5"
      },
      "execution_count": 44,
      "outputs": [
        {
          "output_type": "stream",
          "name": "stdout",
          "text": [
            "台形の面積は75.0cm²です。\n"
          ]
        }
      ]
    }
  ]
}
