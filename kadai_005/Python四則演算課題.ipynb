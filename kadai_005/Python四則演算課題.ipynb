{
  "nbformat": 4,
  "nbformat_minor": 0,
  "metadata": {
    "colab": {
      "provenance": []
    },
    "kernelspec": {
      "name": "python3",
      "display_name": "Python 3"
    },
    "language_info": {
      "name": "python"
    }
  },
  "cells": [
    {
      "cell_type": "code",
      "source": [
        "upper_side = 10\n",
        "bottom_side = 20\n",
        "high = 5\n",
        "\n",
        "area = (upper_side + bottom_side) * high / 2\n",
        "\n",
        "print(f\"台形の面積は{area}c㎡です。\")"
      ],
      "metadata": {
        "colab": {
          "base_uri": "https://localhost:8080/"
        },
        "id": "isiubQXNPPO1",
        "outputId": "6f686bac-1acc-4992-e906-75f15bca6a47"
      },
      "execution_count": 43,
      "outputs": [
        {
          "output_type": "stream",
          "name": "stdout",
          "text": [
            "台形の面積は75.0c㎡です。\n"
          ]
        }
      ]
    }
  ]
}