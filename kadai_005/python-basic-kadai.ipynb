{
  "nbformat": 4,
  "nbformat_minor": 0,
  "metadata": {
    "colab": {
      "provenance": []
    },
    "kernelspec": {
      "name": "python3",
      "display_name": "Python 3"
    },
    "language_info": {
      "name": "python"
    }
  },
  "cells": [
    {
      "cell_type": "code",
      "source": [
        "# 上辺、下辺、高さを設定\n",
        "top_side = 10\n",
        "bottom_side = 20\n",
        "high = 5\n",
        "\n",
        "# 台形の面積を計算\n",
        "area = (top_side + bottom_side) * high / 2\n",
        "\n",
        "# 結果を表示\n",
        "print(\"台形の面積は\", area, \"c㎡です。\")"
      ],
      "metadata": {
        "colab": {
          "base_uri": "https://localhost:8080/"
        },
        "id": "JJ-ZTgtlANw0",
        "outputId": "611afb0b-298e-4991-e64a-1320acb70ca3"
      },
      "execution_count": 2,
      "outputs": [
        {
          "output_type": "stream",
          "name": "stdout",
          "text": [
            "台形の面積は 75.0 c㎡です。\n"
          ]
        }
      ]
    }
  ]
}